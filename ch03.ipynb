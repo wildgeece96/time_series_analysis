{
 "cells": [
  {
   "cell_type": "markdown",
   "metadata": {},
   "source": [
    "# 3章　状態空間モデル"
   ]
  },
  {
   "cell_type": "markdown",
   "metadata": {},
   "source": [
    "## 3.1 時連続状態空間モデル\n",
    "\n",
    "状態空間モデルは以下のように表される。  \n",
    "\n",
    "$$\n",
    "\\boldsymbol{x_t} = \\boldsymbol{F_t} (\\boldsymbol{x_{t-1}}) + \\boldsymbol{G_t} (\\boldsymbol{v_t}) \\\\\n",
    "\\boldsymbol{y_t} = \\boldsymbol{H_t}(\\boldsymbol{x_t}) + \\boldsymbol{w_t} \\\\\n",
    "$$"
   ]
  },
  {
   "cell_type": "code",
   "execution_count": null,
   "metadata": {},
   "outputs": [],
   "source": []
  }
 ],
 "metadata": {
  "kernelspec": {
   "display_name": "Python 3",
   "language": "python",
   "name": "python3"
  },
  "language_info": {
   "codemirror_mode": {
    "name": "ipython",
    "version": 3
   },
   "file_extension": ".py",
   "mimetype": "text/x-python",
   "name": "python",
   "nbconvert_exporter": "python",
   "pygments_lexer": "ipython3",
   "version": "3.6.9"
  }
 },
 "nbformat": 4,
 "nbformat_minor": 4
}
